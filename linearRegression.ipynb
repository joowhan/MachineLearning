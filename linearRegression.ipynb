{
 "cells": [
  {
   "cell_type": "markdown",
   "id": "fc7894d8",
   "metadata": {},
   "source": [
    "## Problem 1. Linear regression"
   ]
  },
  {
   "cell_type": "code",
   "execution_count": 1,
   "id": "2432cd80",
   "metadata": {},
   "outputs": [],
   "source": [
    "import numpy as np\n",
    "import matplotlib.pyplot as plt"
   ]
  },
  {
   "cell_type": "code",
   "execution_count": 2,
   "id": "59f843d4",
   "metadata": {},
   "outputs": [],
   "source": [
    "# Problem 1 supplements: Additional function(s) required for this assignment\n",
    "def normalize_mv(X, mu=None, sigma=None):\n",
    "    \"\"\"\n",
    "    Normalizes input matrix X.\n",
    "    If mu and sigma are provided, this function normalizes X using them.\n",
    "    Otherwise, the function first estimates mu and sigma from X, and then normalizes X.\n",
    "    Input: X - input matrix\n",
    "           mu - a vector of column-wise mean values (can be omitted)\n",
    "           sigma - a vector of column-wise standard deviation values (can be omitted)\n",
    "    Output: \n",
    "    \"\"\"\n",
    "    if mu is None and sigma is None:\n",
    "        mu = X.mean(axis=0)\n",
    "        sigma = X.std(axis=0)\n",
    "    return (X - mu)/sigma, mu, sigma\n",
    "\n",
    "\n",
    "def get_rmse(y_true, y_pred):\n",
    "    \"\"\"\n",
    "    Measures the regression error using root-mean-square error (RMSE)\n",
    "    Input: Y_true - true output (ground truth)\n",
    "           Y_pred - predicted output\n",
    "    return a floating point number representing RMSE\n",
    "    \"\"\"\n",
    "    assert len(y_true) == len(y_pred)\n",
    "    return np.sqrt(np.mean((y_true - y_pred)**2))"
   ]
  },
  {
   "cell_type": "code",
   "execution_count": 3,
   "id": "15cb3962",
   "metadata": {},
   "outputs": [
    {
     "name": "stdout",
     "output_type": "stream",
     "text": [
      "(456, 21)\n",
      "(456,)\n",
      "(50, 21)\n",
      "(50,)\n"
     ]
    }
   ],
   "source": [
    "# Problem 1 supplements: Data preparation for Problem 1.\n",
    "# load data\n",
    "data_tr = np.genfromtxt('boston_houses_train.csv', delimiter=',', skip_header=1)\n",
    "data_ts = np.genfromtxt('boston_houses_test.csv', delimiter=',', skip_header=1)\n",
    "\n",
    "# normalization\n",
    "X_tr, mu_tr, sigma_tr = normalize_mv(data_tr[:, :-1])\n",
    "y_tr = data_tr[:, -1].astype(np.float64)\n",
    "X_ts, _, _ = normalize_mv(data_ts[:, :-1], mu_tr, sigma_tr)\n",
    "y_ts = data_ts[:, -1].astype(np.float64)\n",
    "\n",
    "print(X_tr.shape)\n",
    "print(y_tr.shape)\n",
    "print(X_ts.shape)\n",
    "print(y_ts.shape)"
   ]
  },
  {
   "cell_type": "code",
   "execution_count": 37,
   "id": "66e097b9",
   "metadata": {},
   "outputs": [],
   "source": [
    "# Problem 1 (a) - Implement compute_cost()\n",
    "def compute_cost(X, y, w):\n",
    "    \"\"\"\n",
    "    compute_cost (= compute the error function J(w,D))\n",
    "    Input: X - Input attributes\n",
    "           y - Target values\n",
    "           w - model weights\n",
    "    Output: cost computed given (X, y) and w (i.e., evaluation of function J())\n",
    "    \"\"\"\n",
    "\n",
    "    return np.mean((y-np.dot(X,w.T))**2)\n",
    "    # TODO: Complete this function"
   ]
  },
  {
   "cell_type": "code",
   "execution_count": 38,
   "id": "dd997dcc",
   "metadata": {},
   "outputs": [],
   "source": [
    "# Problem 1 (a) - Your compute_cost() should work with the following functions\n",
    "def gradient_descent(X, y, w, alpha, n_iters, threshold=1e-07):\n",
    "    \"\"\"\n",
    "    gradient_descent\n",
    "    Input: X, y, w, alpha, n_iters\n",
    "    Output: \n",
    "    \"\"\"\n",
    "    N = len(y)\n",
    "    log_j = []\n",
    "    j_last = np.Inf\n",
    "\n",
    "    for i in range(n_iters):\n",
    "        w_new = w - (-2*alpha/N * X.T @ (y - X @ w))\n",
    "        j_new = compute_cost(X, y, w)\n",
    "        \n",
    "        if np.abs(j_last - j_new) < threshold:\n",
    "            break\n",
    "            # \"j_last - j_new < threshold\" is preferred for the sentinel\n",
    "            # Here np.abs() is used for educational purpose\n",
    "            \n",
    "        w = w_new\n",
    "        log_j.append(j_new)\n",
    "        j_last = j_new\n",
    "\n",
    "    return w, log_j\n",
    "\n",
    "\n",
    "def train_linreg(X_tr, y_tr, alpha=0.01, n_iters=1500):\n",
    "    \"\"\"\n",
    "    train_linreg\n",
    "    Input: X_tr - Training input attributes\n",
    "           y_tr - Training target values\n",
    "           alpha - learning rate alpha (default: 0.01)\n",
    "           n_iters - number of iterations (default: 1500)\n",
    "    Output: w_star - trained model weights\n",
    "            log_j - cost history\n",
    "    \"\"\"\n",
    "    N_tr, d_tr = X_tr.shape\n",
    "    \n",
    "    X_tr_b = np.hstack((X_tr, np.ones((N_tr, 1)))) # adding a bias term at the far right of the matrix\n",
    "    w_init = np.zeros(d_tr + 1)  # np.random.rand(d_tr + 1)\n",
    "    \n",
    "    initial_cost = compute_cost(X_tr_b, y_tr, w_init)\n",
    "    print(\"Initial J(w_init, D_tr) is: \", initial_cost, \"\\n\")\n",
    "    \n",
    "    w_star, log_j = gradient_descent(X_tr_b, y_tr, w_init, alpha, n_iters)\n",
    "    \n",
    "    print(\"w*: \\n\", w_star, \"\\n\") #학습\n",
    "    print(\"J(w*, D_tr): \", log_j[-1])\n",
    "    \n",
    "    return w_star, log_j"
   ]
  },
  {
   "cell_type": "code",
   "execution_count": 15,
   "id": "cb792e84",
   "metadata": {},
   "outputs": [
    {
     "name": "stdout",
     "output_type": "stream",
     "text": [
      "Initial J(w_init, D_tr) is:  601.1605263157895 \n",
      "\n",
      "w*: \n",
      " [-0.98423976  0.9789124   0.19501163  0.87777439 -0.78209369  1.05873945\n",
      " -0.09628398 -3.04293934  2.14854721 -1.55106407 -1.89858986  0.85519071\n",
      " -3.47077153  0.17586123  0.24059276 -0.64204962  1.05874273 -0.09680907\n",
      " -0.47352301  1.06483885 -0.09673251 22.69649123] \n",
      "\n",
      "J(w*, D_tr):  21.786880042225047\n"
     ]
    },
    {
     "data": {
      "image/png": "[encoded data removed]",
      "text/plain": [
       "<Figure size 432x288 with 1 Axes>"
      ]
     },
     "metadata": {
      "needs_background": "light"
     },
     "output_type": "display_data"
    }
   ],
   "source": [
    "# Problem 1 (b) Execute this code cell, after implementing compute_cost(X, y, w)\n",
    "\n",
    "Model_linreg, log_j_linreg = train_linreg(X_tr, y_tr, 0.005, 3000)\n",
    "\n",
    "plt.plot(range(len(log_j_linreg)), log_j_linreg, 'r')\n",
    "plt.title('learning_curve')\n",
    "plt.ylabel('Cost')\n",
    "plt.xlabel('#Iterations')\n",
    "plt.show()"
   ]
  },
  {
   "cell_type": "code",
   "execution_count": 16,
   "id": "48fe28d2",
   "metadata": {},
   "outputs": [],
   "source": [
    "# Problem 1 (c) Implement the predict_linreg(X, w) below.\n",
    "def predict_linreg(X, w):\n",
    "    \"\"\"\n",
    "    predict_linreg\n",
    "    Input: X - Input attributes to predict the target output\n",
    "           w - Trained model weights\n",
    "    Output: y_pred - predicted target values\n",
    "    \"\"\"\n",
    "    #print(w)\n",
    "    # TODO: Complete this function\n",
    "    y_pred = np.dot(X,w[:-1].T)+w[-1]\n",
    "    return y_pred"
   ]
  },
  {
   "cell_type": "code",
   "execution_count": 19,
   "id": "d28db73d",
   "metadata": {},
   "outputs": [
    {
     "name": "stdout",
     "output_type": "stream",
     "text": [
      "4.66763967930312\n",
      "5.002223099284747\n"
     ]
    },
    {
     "data": {
      "text/plain": [
       "(-10.0, 55.0)"
      ]
     },
     "execution_count": 19,
     "metadata": {},
     "output_type": "execute_result"
    },
    {
     "data": {
      "image/png": "[encoded data removed]",
      "text/plain": [
       "<Figure size 432x288 with 1 Axes>"
      ]
     },
     "metadata": {
      "needs_background": "light"
     },
     "output_type": "display_data"
    }
   ],
   "source": [
    "# Problem 1 (d)\n",
    "# prediction\n",
    "y_tr_pred = predict_linreg(X_tr, Model_linreg)\n",
    "y_ts_pred = predict_linreg(X_ts, Model_linreg)\n",
    "\n",
    "# print out the results -> rmse train more accurate\n",
    "print(get_rmse(y_tr, y_tr_pred))\n",
    "print(get_rmse(y_ts, y_ts_pred))\n",
    "\n",
    "# Draw scatter plots that compare true and predicted target values\n",
    "# (blue dots for y_tr; oranges dots for y_ts)\n",
    "plt.scatter(y_tr,y_tr_pred, s=10)\n",
    "plt.xlabel('True y')\n",
    "plt.ylabel('Predicted y')\n",
    "plt.title('Training data')\n",
    "\n",
    "plt.scatter(y_ts,y_ts_pred, s=10)\n",
    "plt.xlabel('True y')\n",
    "plt.ylabel('Predicted y')\n",
    "plt.title('Testing data')\n",
    "\n",
    "plt.axline((-100, -100), (100, 100), c='grey', lw=1)\n",
    "plt.ylim(-10, 55)\n",
    "plt.xlim(-10, 55)\n",
    "#주황은 train 50에서 가중치를 더 준다. "
   ]
  },
  {
   "cell_type": "code",
   "execution_count": 9,
   "id": "e24e826d",
   "metadata": {},
   "outputs": [
    {
     "name": "stdout",
     "output_type": "stream",
     "text": [
      "Initial J(w_init, D_tr) is:  601.1605263157895 \n",
      "\n",
      "w*: \n",
      " [ 8.21848366e+00 -2.70064795e+00 -1.52113346e+00 -4.24350636e-01\n",
      " -2.17427843e+00 -8.28643184e-01  1.13332642e+00 -5.05326849e-01\n",
      " -3.23869812e+00  6.10350456e-01 -4.26322316e-01 -2.41003851e-01\n",
      "  1.80220783e+00 -3.47964065e+00  7.19130235e-02  1.34852003e-01\n",
      " -8.73585298e-01  1.13750328e+00 -5.05322771e-01 -7.97573869e-01\n",
      "  1.15882805e+00 -5.05889638e-01  1.05300091e-01  3.52608349e-01\n",
      "  5.79980957e-01  1.33277057e+00 -6.51394929e-02  2.65192500e-01\n",
      " -2.39437761e-01  5.64695797e-01  8.79733869e-02  5.45610448e-01\n",
      "  9.39869913e-02 -1.64651094e-01  1.10650531e+00  2.28700424e-01\n",
      " -1.13295080e-01 -1.70403412e-01  2.62599384e-01 -2.39779991e-01\n",
      " -2.78694385e-01  2.75060831e-01 -2.39595994e-01 -1.21496484e-01\n",
      " -6.34748050e-01  2.82169543e-03 -2.12592232e-01  3.83518534e-02\n",
      " -1.35200766e-01 -2.99378046e-01  2.33357869e-01  7.73194671e-01\n",
      "  7.97420260e-02  4.33642761e-01 -5.54108264e-01  4.88220087e-02\n",
      " -7.37916826e-02 -3.19080541e-01  3.57637586e-02 -1.35622194e-01\n",
      " -1.92900742e-01  2.24292600e-02 -1.35206864e-01  5.16354346e-01\n",
      " -9.07766199e-02  1.27925456e-01  3.25981742e-01  3.38240808e-01\n",
      "  7.02906291e-01 -5.33213901e-01 -4.64393769e-01 -4.24674130e-01\n",
      " -1.25150590e-01 -8.61470302e-01  2.16678708e-01 -1.73239166e-01\n",
      "  1.09202027e-01  3.42388433e-01  3.38318643e-01  1.04169408e-01\n",
      "  3.44891916e-01  3.37923397e-01  1.04132396e+00 -2.71329125e-01\n",
      " -1.96507624e-01  2.64864336e-02 -1.35860541e-01  5.22060319e-01\n",
      "  3.99979067e-01 -1.22300779e-02 -4.53280268e-01 -7.84100131e-02\n",
      " -8.51277651e-02  1.40612324e-01 -2.91103392e-01 -2.10617977e-01\n",
      "  2.65295694e-02 -3.13226340e-01 -2.08280566e-01  2.59682765e-02\n",
      "  3.67652318e-03  3.86395717e-03 -1.40695959e-01  2.73894864e-02\n",
      " -2.81248905e-01  1.82453965e-01 -2.18414213e-01  3.41979958e-02\n",
      "  4.76283745e-01 -1.75365084e-01 -4.05740570e-03  2.11864430e-02\n",
      "  2.05657990e-04 -1.40549214e-01  1.83704641e-02  2.27995172e-02\n",
      " -1.40794475e-01  9.90896729e-02 -1.47084515e-01 -1.41762700e-02\n",
      " -1.63362482e-01 -5.33232739e-01 -2.20107891e-01 -6.01575675e-02\n",
      " -1.94663114e-01  1.15675877e-01  5.90420229e-02 -6.40224734e-02\n",
      "  7.90081841e-02 -1.47619066e-01  8.21391955e-02  9.77872397e-02\n",
      " -1.47501150e-01  5.47346691e-02  2.57756440e-01  4.18417725e-01\n",
      " -6.13272702e-03 -9.88868555e-02 -6.10749950e-01 -5.63198317e-01\n",
      "  1.42356442e-01  8.52304721e-03 -1.12704212e-01 -1.45326735e-01\n",
      "  5.47392801e-02 -1.43354539e-01 -1.19705799e-01  5.44412320e-02\n",
      "  1.22956316e+00 -5.24088561e-01 -1.23327033e+00 -1.14637527e-01\n",
      " -3.19681651e-01  3.70163298e-01  3.26728904e-02 -3.52724018e-01\n",
      "  2.74728720e-02 -2.58661107e-02  2.57673835e-01  2.07650860e-02\n",
      " -3.32633712e-02  2.57921105e-01  4.23491891e-01  9.85264151e-01\n",
      "  3.77724361e-01 -4.45642073e-02 -1.64285427e+00  5.24135009e-01\n",
      "  4.44321485e-02 -4.16833219e-01 -1.57735206e-01  4.18213070e-01\n",
      " -3.95287192e-01 -1.17096642e-01  4.18004487e-01  1.87765817e-01\n",
      "  1.31227264e+00 -2.97296444e-01 -1.39081317e+00 -2.05311089e-01\n",
      " -2.29455116e-01  1.01369584e-01 -5.18337313e-01 -6.28122250e-03\n",
      "  1.12376003e-01 -4.93815888e-01 -6.73264768e-03  3.27528630e-01\n",
      "  3.22036539e-03  4.94837569e-01  2.03501639e-01  5.16926531e-02\n",
      " -2.48303854e-01 -2.29078023e-01 -9.89432198e-02 -2.53255231e-01\n",
      " -2.07804916e-01 -9.88013425e-02 -2.54915282e-01 -4.46927716e-01\n",
      "  2.18713845e-01 -6.25814943e-02  3.36518770e-02 -8.72385977e-02\n",
      " -6.11059746e-01  2.04162344e-01 -6.83984557e-02 -6.10684450e-01\n",
      "  9.79807498e-01 -1.87356723e-01  9.74981026e-02  4.70130255e-01\n",
      " -1.73805356e-01 -5.62675315e-01  2.95330509e-01 -1.70809339e-01\n",
      " -5.62719209e-01  1.03650331e-01 -6.42307510e-02 -1.96768195e-01\n",
      "  1.09782703e-01  1.42545487e-01 -2.88252743e-01  1.04123723e-01\n",
      "  1.42197601e-01 -6.44234777e-02  8.87898079e-02  2.03043922e-02\n",
      "  9.06860106e-03 -8.13532718e-02  4.83316309e-02  8.78698009e-03\n",
      "  4.21229460e-02 -6.70891320e-02 -1.12550756e-01  3.51376594e-02\n",
      " -4.54778209e-02 -1.12799699e-01  5.89456266e-02 -1.45861538e-01\n",
      "  7.79535159e-02  7.76321225e-02 -1.45744275e-01  5.47439464e-02\n",
      " -1.43210456e-01 -1.20242379e-01  5.44458653e-02  3.46050106e-02\n",
      "  1.01212798e-01 -1.43448736e-01  9.66482899e-02 -1.20123619e-01\n",
      "  5.41478764e-02  8.21848366e+00] \n",
      "\n",
      "J(w*, D_tr):  6.098892280378535\n",
      "2.4695347911436816\n",
      "4.688847040701101\n"
     ]
    },
    {
     "data": {
      "text/plain": [
       "(-10.0, 55.0)"
      ]
     },
     "execution_count": 9,
     "metadata": {},
     "output_type": "execute_result"
    },
    {
     "data": {
      "image/png": "[encoded data removed]",
      "text/plain": [
       "<Figure size 432x288 with 1 Axes>"
      ]
     },
     "metadata": {
      "needs_background": "light"
     },
     "output_type": "display_data"
    }
   ],
   "source": [
    "# Problem 1 (e)\n",
    "from sklearn.preprocessing import PolynomialFeatures\n",
    "\n",
    "# TODO: Apply the polynomial feature function\n",
    "#       and create X_tr_ext from X_tr, and\n",
    "#                  X_ts_ext from X_ts\n",
    "\n",
    "\n",
    "tr_trans = PolynomialFeatures(degree=2)\n",
    "X_tr_ext =  tr_trans.fit_transform(X_tr)\n",
    "ts_trans = PolynomialFeatures(degree=2)\n",
    "X_ts_ext =  ts_trans.fit_transform(X_ts)\n",
    "\n",
    "\n",
    "\"\"\" You do NOT need to modify the rest of the code cell \"\"\"\n",
    "\n",
    "# training\n",
    "Model_linreg, log_j_linreg = train_linreg(X_tr_ext, y_tr, 0.005, 3000)\n",
    "\n",
    "# prediction\n",
    "y_tr_pred_ext = predict_linreg(X_tr_ext, Model_linreg)\n",
    "y_ts_pred_ext = predict_linreg(X_ts_ext, Model_linreg)\n",
    "\n",
    "print(get_rmse(y_tr, y_tr_pred_ext))\n",
    "print(get_rmse(y_ts, y_ts_pred_ext))\n",
    "\n",
    "# drawing a scatter plot of prediction\n",
    "plt.scatter(y_tr,y_tr_pred_ext, s=10)\n",
    "plt.xlabel('True y')\n",
    "plt.ylabel('Predicted y')\n",
    "plt.title('Training data')\n",
    "\n",
    "plt.scatter(y_ts,y_ts_pred_ext, s=10)\n",
    "plt.xlabel('True y')\n",
    "plt.ylabel('Predicted y')\n",
    "plt.title('Testing data')\n",
    "\n",
    "plt.axline((-100, -100), (100, 100), c='grey', lw=1)\n",
    "plt.ylim(-10, 55)\n",
    "plt.xlim(-10, 55)"
   ]
  },
  {
   "cell_type": "code",
   "execution_count": 63,
   "id": "452a736d",
   "metadata": {},
   "outputs": [
    {
     "name": "stdout",
     "output_type": "stream",
     "text": [
      "Initial J(w_init, D_tr) is:  601.1605263157895 \n",
      "\n",
      "w*: \n",
      " [-1.23047965  0.82798564 -0.24968399  0.65951256 -2.42815961  0.85718503\n",
      " -0.20151219 -4.27400728  2.49465727 -1.74388629 -2.23626241  0.41400701\n",
      " -3.93543252  0.03751416  0.08719022 -0.98263746  0.91132938 -0.20323118\n",
      "  0.87487972  0.71212726 -0.20255952 22.50607211] \n",
      "\n",
      "J(w*, D_tr):  24.497882825612123\n"
     ]
    },
    {
     "data": {
      "image/png": "[encoded data removed]",
      "text/plain": [
       "<Figure size 432x288 with 1 Axes>"
      ]
     },
     "metadata": {
      "needs_background": "light"
     },
     "output_type": "display_data"
    },
    {
     "name": "stdout",
     "output_type": "stream",
     "text": [
      "4.774531772945174\n",
      "4.7942346223686245\n"
     ]
    },
    {
     "data": {
      "image/png": "[encoded data removed]",
      "text/plain": [
       "<Figure size 432x288 with 1 Axes>"
      ]
     },
     "metadata": {
      "needs_background": "light"
     },
     "output_type": "display_data"
    }
   ],
   "source": [
    "# Problem 1 (g, h)\n",
    "def compute_cost_l2(X, y, w, l):\n",
    "    \"\"\"\n",
    "    compute_cost_l2 L2-regularized cost function (= compute the error function J_l2(w,D))\n",
    "    Input: X - Input attributes\n",
    "           y - Target values\n",
    "           w - model weights\n",
    "    Output: cost computed given (X, y) and w (i.e., evaluation of function J())\n",
    "    \"\"\"\n",
    "    \n",
    "    # TODO: Complete this function\n",
    "    \n",
    "    cost = np.mean((y-np.dot(X,w.T))**2) + l*np.sum(w**2)\n",
    "    return cost\n",
    "\n",
    "\n",
    "def gradient_descent_l2(X, y, w, l, alpha, n_iters, threshold=1e-07):\n",
    "    \"\"\"\n",
    "    gradient_descent\n",
    "    Input: X, y, w, alpha, n_iters\n",
    "    Output: \n",
    "    \"\"\"\n",
    "    N = len(y)\n",
    "    log_j = []\n",
    "    j_last = np.Inf\n",
    "\n",
    "    for i in range(n_iters):\n",
    "        w_new = w - (-2*alpha/N * X.T @ (y - X @ w) + l*w.sum())\n",
    "        \n",
    "        j_new = compute_cost_l2(X, y, w, l)\n",
    "        \n",
    "        if np.abs(j_last - j_new) < threshold:\n",
    "            break\n",
    "            # \"j_last - j_new < threshold\" is preferred for the sentinel\n",
    "            # Here np.abs() is used for educational purpose\n",
    "\n",
    "            \n",
    "        w = w_new\n",
    "        log_j.append(j_new)\n",
    "        j_last = j_new\n",
    "\n",
    "    return w, log_j\n",
    "\n",
    "\n",
    "def train_linreg_l2(X_tr, y_tr, l=1.0, alpha=0.001, n_iters=1500):\n",
    "    \"\"\"\n",
    "    train_linreg\n",
    "    Input: X_tr - Training input attributes\n",
    "           y_tr - Training target values\n",
    "           l - regularization parameter lambda (default: 1.0)\n",
    "           alpha - learning rate alpha (default: 0.01)\n",
    "           n_iters - number of iterations (default: 1500)\n",
    "    Output: w_star - trained model weights\n",
    "            log_j - cost history\n",
    "    \"\"\"\n",
    "    N_tr, d_tr = X_tr.shape\n",
    "    \n",
    "    X_tr_b = np.hstack((X_tr, np.ones((N_tr, 1)))) # adding a bias term at the far right of the matrix\n",
    "    w_init = np.zeros(d_tr + 1)  # np.random.rand(d_tr + 1)\n",
    "    \n",
    "    initial_cost = compute_cost_l2(X_tr_b, y_tr, w_init, l)\n",
    "    print(\"Initial J(w_init, D_tr) is: \", initial_cost, \"\\n\")\n",
    "    \n",
    "    w_star, log_j = gradient_descent_l2(X_tr_b, y_tr, w_init, l, alpha, n_iters)\n",
    "    \n",
    "    print(\"w*: \\n\", w_star, \"\\n\")\n",
    "    print(\"J(w*, D_tr): \", log_j[-1])\n",
    "    \n",
    "    return w_star, log_j\n",
    "\n",
    "\n",
    "# Training a L2-regularized LinReg\n",
    "Model_l2, log_j_l2 = train_linreg_l2(X_tr, y_tr, 0.003, 0.1, 3000)\n",
    "\n",
    "plt.plot(range(len(log_j_l2)), log_j_l2, 'r')\n",
    "plt.title('learning_curve')\n",
    "plt.ylabel('Cost')\n",
    "plt.xlabel('#Iterations')\n",
    "plt.show()\n",
    "\n",
    "# prediction\n",
    "y_tr_pred_l2 = predict_linreg(X_tr, Model_l2)\n",
    "y_ts_pred_l2 = predict_linreg(X_ts, Model_l2)\n",
    "\n",
    "print(get_rmse(y_tr, y_tr_pred_l2))\n",
    "print(get_rmse(y_ts, y_ts_pred_l2))\n",
    "\n",
    "# drawing a scatter plot of prediction\n",
    "plt.scatter(y_tr,y_tr_pred, s=10)\n",
    "plt.xlabel('True y')\n",
    "plt.ylabel('Predicted y')\n",
    "plt.title('Training data')\n",
    "\n",
    "plt.scatter(y_ts,y_ts_pred, s=10)\n",
    "plt.xlabel('True y')\n",
    "plt.ylabel('Predicted y')\n",
    "plt.title('Testing data')\n",
    "\n",
    "plt.axline((-100, -100), (100, 100), c='grey', lw=1)\n",
    "plt.ylim(-10, 55)\n",
    "plt.xlim(-10, 55)\n",
    "plt.show()\n"
   ]
  },
  {
   "cell_type": "code",
   "execution_count": 64,
   "id": "1b513a53-73bd-4d10-aafa-1ee144e8e405",
   "metadata": {},
   "outputs": [
    {
     "name": "stdout",
     "output_type": "stream",
     "text": [
      "(4.790414527912314, 0.003, 0.08, 1000)\n"
     ]
    }
   ],
   "source": [
    "# Problem 1 (g, h)\n",
    "def compute_cost_l2(X, y, w, l):\n",
    "    \"\"\"\n",
    "    compute_cost_l2 L2-regularized cost function (= compute the error function J_l2(w,D))\n",
    "    Input: X - Input attributes\n",
    "           y - Target values\n",
    "           w - model weights\n",
    "    Output: cost computed given (X, y) and w (i.e., evaluation of function J())\n",
    "    \"\"\"\n",
    "    \n",
    "    # TODO: Complete this function\n",
    "    \n",
    "    cost = np.mean((y-np.dot(X,w.T))**2) + l*np.sum(w**2)\n",
    "    return cost\n",
    "\n",
    "\n",
    "def gradient_descent_l2(X, y, w, l, alpha, n_iters, threshold=1e-07):\n",
    "    \"\"\"\n",
    "    gradient_descent\n",
    "    Input: X, y, w, alpha, n_iters\n",
    "    Output: \n",
    "    \"\"\"\n",
    "    N = len(y)\n",
    "    log_j = []\n",
    "    j_last = np.Inf\n",
    "\n",
    "    for i in range(n_iters):\n",
    "        w_new = w - (-2*alpha/N * X.T @ (y - X @ w) + l*w.sum())\n",
    "        \n",
    "        j_new = compute_cost_l2(X, y, w, l)\n",
    "        \n",
    "        if np.abs(j_last - j_new) < threshold:\n",
    "            break\n",
    "            # \"j_last - j_new < threshold\" is preferred for the sentinel\n",
    "            # Here np.abs() is used for educational purpose\n",
    "\n",
    "            \n",
    "        w = w_new\n",
    "        log_j.append(j_new)\n",
    "        j_last = j_new\n",
    "\n",
    "    return w, log_j\n",
    "\n",
    "\n",
    "def train_linreg_l2(X_tr, y_tr, l=1.0, alpha=0.001, n_iters=1500):\n",
    "    \"\"\"\n",
    "    train_linreg\n",
    "    Input: X_tr - Training input attributes\n",
    "           y_tr - Training target values\n",
    "           l - regularization parameter lambda (default: 1.0)\n",
    "           alpha - learning rate alpha (default: 0.01)\n",
    "           n_iters - number of iterations (default: 1500)\n",
    "    Output: w_star - trained model weights\n",
    "            log_j - cost history\n",
    "    \"\"\"\n",
    "    N_tr, d_tr = X_tr.shape\n",
    "    \n",
    "    X_tr_b = np.hstack((X_tr, np.ones((N_tr, 1)))) # adding a bias term at the far right of the matrix\n",
    "    w_init = np.zeros(d_tr + 1)  # np.random.rand(d_tr + 1)\n",
    "    \n",
    "    initial_cost = compute_cost_l2(X_tr_b, y_tr, w_init, l)\n",
    "    #print(\"Initial J(w_init, D_tr) is: \", initial_cost, \"\\n\")\n",
    "    \n",
    "    w_star, log_j = gradient_descent_l2(X_tr_b, y_tr, w_init, l, alpha, n_iters)\n",
    "    \n",
    "    #print(\"w*: \\n\", w_star, \"\\n\")\n",
    "    #print(\"J(w*, D_tr): \", log_j[-1])\n",
    "    \n",
    "    return w_star, log_j\n",
    "\n",
    "\n",
    "# Training a L2-regularized LinReg\n",
    "# l = 1.0, alpha = 0.05, iterator = 3000\n",
    "l = [0.001 * i for i in range(1,10)]\n",
    "alpha = [0.01 * i for i in range(1,10)]\n",
    "n_iters = [500 * i for i in range(1,10)]\n",
    "\n",
    "min_value = 10.0\n",
    "min_alpha = 1000\n",
    "min_l = 1000\n",
    "min_n_iters = 1000000\n",
    "lis = []\n",
    "for i in range(len(l)):\n",
    "    for j in range(len(alpha)):\n",
    "        for k in range(len(n_iters)):\n",
    "            rmse = 0\n",
    "            #print(\"l: \", l[i], \" alpha: \", alpha[i], \" n_iters: \", n_iters[i])\n",
    "            Model_l2, log_j_l2 = train_linreg_l2(X_tr, y_tr, l[i], alpha[j], n_iters[k])\n",
    "\n",
    "            # prediction\n",
    "            # y_tr_pred_l2 = predict_linreg(X_tr, Model_l2)\n",
    "            y_ts_pred_l2 = predict_linreg(X_ts, Model_l2)\n",
    "            \n",
    "            rmse = get_rmse(y_ts, y_ts_pred_l2)\n",
    "            lis.append((rmse,l[i], alpha[j], n_iters[k]))\n",
    "                \n",
    "\n",
    "#print(\"RMSE: \", get_rmse(y_ts, y_ts_pred_l2))\n",
    "#print(min_value, min_l, min_alpha, min_n_iters)\n",
    "print(min(lis))"
   ]
  },
  {
   "cell_type": "code",
   "execution_count": 39,
   "id": "200b8c1a",
   "metadata": {},
   "outputs": [
    {
     "name": "stdout",
     "output_type": "stream",
     "text": [
      "R2:\n",
      "0.6279840987817954\n",
      "0.6731356774620216\n",
      "0.6551736480191839\n",
      "RMSE:\n",
      "5.002223099284747\n",
      "4.688847040701101\n",
      "4.815956210956664\n"
     ]
    }
   ],
   "source": [
    "def compute_r2(y_true, y_pred):\n",
    "    \"\"\"\n",
    "    compute_r2 (= compute R^2 (coefficient of determination) between two input vectors)\n",
    "    Input: X - Input attributes\n",
    "           y - Target values\n",
    "           w - model weights\n",
    "    Output: cost computed given (X, y) and w (i.e., evaluation of function J())\n",
    "    \"\"\"\n",
    "        \n",
    "    r2 = 0\n",
    "    em_mean = np.mean(y_true)\n",
    "    # TODO: Complete this function\n",
    "    r2 = 1 - ((np.sum((y_true-y_pred)**2))/np.sum((y_true - em_mean)**2))\n",
    "    return r2\n",
    "\n",
    "def compute_rmse(y_true, y_pred):\n",
    "    \"\"\"\n",
    "    compute_rmse (= compute the root mean squared error between two input vectors)\n",
    "    Input: y_true - Input attributes\n",
    "           y - Target values\n",
    "           w - model weights\n",
    "    Output: cost computed given (X, y) and w (i.e., evaluation of function J())\n",
    "    \"\"\"\n",
    "    rmse = 0\n",
    "    rmse = np.sqrt(np.mean((y_true - y_pred)**2))\n",
    "    \n",
    "    # TODO: Complete this function\n",
    "    \n",
    "    return rmse\n",
    "\n",
    "print('R2:')\n",
    "print(compute_r2(y_ts, y_ts_pred))\n",
    "print(compute_r2(y_ts, y_ts_pred_ext))\n",
    "print(compute_r2(y_ts, y_ts_pred_l2))\n",
    "\n",
    "print('RMSE:')\n",
    "print(compute_rmse(y_ts, y_ts_pred))\n",
    "print(compute_rmse(y_ts, y_ts_pred_ext))\n",
    "print(compute_rmse(y_ts, y_ts_pred_l2))"
   ]
  },
  {
   "cell_type": "code",
   "execution_count": 31,
   "id": "de167a1d",
   "metadata": {},
   "outputs": [],
   "source": [
    "# Problem 1 (j) - Perform a 5-fold crossvalidation\n",
    "#                 to find the best hyperparameter combinatio\n",
    "from sklearn.model_selection import KFold\n",
    "from sklearn.tree import DecisionTreeClassifier\n",
    "from sklearn.metrics import accuracy_score\n",
    "from sklearn.model_selection import cross_val_score, cross_validate\n",
    "from sklearn.pipeline import Pipeline"
   ]
  },
  {
   "cell_type": "code",
   "execution_count": 32,
   "id": "a87e8500-bcd5-4e29-999e-2d9d411ee5ed",
   "metadata": {},
   "outputs": [],
   "source": [
    "kfold = KFold(n_splits=5)"
   ]
  },
  {
   "cell_type": "code",
   "execution_count": 33,
   "id": "9d133194-1ced-4d6e-9f6b-e78ebcb41dae",
   "metadata": {},
   "outputs": [],
   "source": [
    "data_tr = np.genfromtxt('boston_houses_train.csv', delimiter=',', skip_header=1)\n",
    "data_ts = np.genfromtxt('boston_houses_test.csv', delimiter=',', skip_header=1)\n",
    "\n",
    "# normalization\n",
    "X_tr, mu_tr, sigma_tr = normalize_mv(data_tr[:, :-1])\n",
    "y_tr = data_tr[:, -1].astype(np.float64)\n",
    "X_ts, _, _ = normalize_mv(data_ts[:, :-1], mu_tr, sigma_tr)\n",
    "y_ts = data_ts[:, -1].astype(np.float64)"
   ]
  },
  {
   "cell_type": "code",
   "execution_count": null,
   "id": "9a69694d-ed2b-4cc6-82c7-8ea375330520",
   "metadata": {},
   "outputs": [],
   "source": []
  }
 ],
 "metadata": {
  "kernelspec": {
   "display_name": "Python 3",
   "language": "python",
   "name": "python3"
  },
  "language_info": {
   "codemirror_mode": {
    "name": "ipython",
    "version": 3
   },
   "file_extension": ".py",
   "mimetype": "text/x-python",
   "name": "python",
   "nbconvert_exporter": "python",
   "pygments_lexer": "ipython3",
   "version": "3.9.2"
  }
 },
 "nbformat": 4,
 "nbformat_minor": 5
}
